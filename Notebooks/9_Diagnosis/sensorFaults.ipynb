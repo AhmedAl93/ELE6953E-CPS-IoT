{
 "cells": [
  {
   "cell_type": "markdown",
   "metadata": {},
   "source": [
    "# Model-Based Fault Diagnosis and Security of CPS"
   ]
  },
  {
   "cell_type": "code",
   "execution_count": null,
   "metadata": {},
   "outputs": [],
   "source": [
    "display(\"text/javascript\", \"\"\"MathJax.Hub.Config({TeX: { equationNumbers: { autoNumber: \"AMS\" } }});\"\"\")"
   ]
  },
  {
   "cell_type": "code",
   "execution_count": null,
   "metadata": {},
   "outputs": [],
   "source": [
    "using ControlSystems"
   ]
  },
  {
   "cell_type": "code",
   "execution_count": null,
   "metadata": {},
   "outputs": [],
   "source": [
    "srand(1234);"
   ]
  },
  {
   "cell_type": "markdown",
   "metadata": {},
   "source": [
    "## Sensor Faults"
   ]
  },
  {
   "cell_type": "code",
   "execution_count": null,
   "metadata": {},
   "outputs": [],
   "source": [
    "# Example in S. Sundaram lecture notes, ch. 4\n",
    "A = 0.39 * [1 1 0 1; 0 1 1 0; 1 0 1 1; 0 0 1 1]\n",
    "C = [1 0 0 0; 0 1 0 0; 0 1 1 0]\n",
    "sys = ss(A,zeros(4,1),C,zeros(3,1),-1)"
   ]
  },
  {
   "cell_type": "code",
   "execution_count": null,
   "metadata": {},
   "outputs": [],
   "source": [
    "abs.(eigvals(A))"
   ]
  },
  {
   "cell_type": "code",
   "execution_count": null,
   "metadata": {},
   "outputs": [],
   "source": [
    "# Observability matrix\n",
    "C1 = Array(C[1,:]')\n",
    "rank(obsv(A,C1))"
   ]
  },
  {
   "cell_type": "code",
   "execution_count": null,
   "metadata": {},
   "outputs": [],
   "source": [
    "L = place(A',C1',[0,0,0,0])'  # place the 4 eigenvalues at 0"
   ]
  },
  {
   "cell_type": "code",
   "execution_count": null,
   "metadata": {},
   "outputs": [],
   "source": [
    "A - L*C1"
   ]
  },
  {
   "cell_type": "code",
   "execution_count": null,
   "metadata": {},
   "outputs": [],
   "source": [
    "nsteps = 15\n",
    "x_true = zeros(size(A,1),nsteps)\n",
    "y_meas = zeros(size(C,1),nsteps-1)\n",
    "x_true[:,1] = randn(4)\n",
    "x_est = zeros(x_true)\n",
    "y_est = zeros(y_meas-1)\n",
    "residues = zeros(size(C,1),nsteps-1)\n",
    "fault = [1;0;0]   # additive constant fault vector - choose ona at a time\n",
    "for k=1:nsteps-1\n",
    "    y_meas[:,k] = C * x_true[:,k] + fault\n",
    "    x_true[:,k+1] = A * x_true[:,k] \n",
    "    x_est[:,k+1] = A * x_est[:,k] + L*(y_meas[1,k] - C1*x_est[:,k]) \n",
    "    y_est[:,k] = C * x_est[:,k] \n",
    "    residues[:,k] = y_meas[:,k] - y_est[:,k]\n",
    "end"
   ]
  },
  {
   "cell_type": "code",
   "execution_count": null,
   "metadata": {},
   "outputs": [],
   "source": [
    "using Plots\n",
    "plotlyjs()\n",
    "plot(residues')"
   ]
  },
  {
   "cell_type": "markdown",
   "metadata": {},
   "source": [
    "## Parity Space Method"
   ]
  },
  {
   "cell_type": "code",
   "execution_count": null,
   "metadata": {},
   "outputs": [],
   "source": [
    "A = [1 1 0 1; 0 1 1 0; 1 0 1 1; 0 0 1 1]\n",
    "C = [1 0 0 0; 0 1 0 0; 0 1 1 0]\n",
    "Bf = [1 0; 0 1; 0 1; 1 1]\n",
    "Bd = [0; 1; 0; 1];"
   ]
  },
  {
   "cell_type": "code",
   "execution_count": null,
   "metadata": {},
   "outputs": [],
   "source": [
    "O3 = obsv(A,C);"
   ]
  },
  {
   "cell_type": "code",
   "execution_count": null,
   "metadata": {},
   "outputs": [],
   "source": [
    "function outputMatrices(A,B,C,D,order=size(A,1)-1)\n",
    "    O = C  # Observability matrix\n",
    "    M = D  # Invertibility matrix\n",
    "    for i=1:order\n",
    "        M = [D zeros(size(D,1),size(M,2)); O*B M]\n",
    "        O = [C; O*A]\n",
    "    end\n",
    "    return(O,M)\n",
    "end"
   ]
  },
  {
   "cell_type": "code",
   "execution_count": null,
   "metadata": {},
   "outputs": [],
   "source": [
    "(O,Md) = outputMatrices(A,Bd,C,zeros(size(C,1),size(Bd,2)));"
   ]
  },
  {
   "cell_type": "code",
   "execution_count": null,
   "metadata": {},
   "outputs": [],
   "source": [
    "V = nullspace([O Md]')'  # parity space"
   ]
  },
  {
   "cell_type": "code",
   "execution_count": null,
   "metadata": {},
   "outputs": [],
   "source": [
    "(O,Mf) = outputMatrices(A,Bf,C,zeros(size(C,1),size(Bf,2)));"
   ]
  },
  {
   "cell_type": "code",
   "execution_count": null,
   "metadata": {},
   "outputs": [],
   "source": [
    "P = V*Mf"
   ]
  },
  {
   "cell_type": "markdown",
   "metadata": {},
   "source": [
    "Because the last two columns are 0, we cannot detect any components of a fault occuring at k=3."
   ]
  }
 ],
 "metadata": {
  "kernelspec": {
   "display_name": "Julia 0.6.2",
   "language": "julia",
   "name": "julia-0.6"
  },
  "language_info": {
   "file_extension": ".jl",
   "mimetype": "application/julia",
   "name": "julia",
   "version": "0.6.2"
  }
 },
 "nbformat": 4,
 "nbformat_minor": 2
}
