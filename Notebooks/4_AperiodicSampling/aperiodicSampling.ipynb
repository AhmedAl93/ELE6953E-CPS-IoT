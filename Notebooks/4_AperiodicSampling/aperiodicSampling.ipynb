{
 "cells": [
  {
   "cell_type": "markdown",
   "metadata": {},
   "source": [
    "# [Julia](https://julialang.org/) Notebook for the Discussion on Aperiodic Sampling\n",
    "\n",
    "Survey: L. Hetel et al., \"Recent developments on the stability of systems with aperiodic sampling: An overview\", Automatica, 2017."
   ]
  },
  {
   "cell_type": "code",
   "execution_count": 1,
   "metadata": {},
   "outputs": [],
   "source": [
    "#Pkg.add(\"ControlSystems\")\n",
    "#Pkg.add(\"SCS\")"
   ]
  },
  {
   "cell_type": "code",
   "execution_count": 2,
   "metadata": {},
   "outputs": [],
   "source": [
    "using ControlSystems"
   ]
  },
  {
   "cell_type": "code",
   "execution_count": 3,
   "metadata": {},
   "outputs": [],
   "source": [
    "using Plots\n",
    "#plotlyjs()\n",
    "#pyplot()"
   ]
  },
  {
   "cell_type": "code",
   "execution_count": 4,
   "metadata": {},
   "outputs": [
    {
     "data": {
      "text/plain": [
       "generateDTtraj (generic function with 1 method)"
      ]
     },
     "execution_count": 4,
     "metadata": {},
     "output_type": "execute_result"
    }
   ],
   "source": [
    "# Helper function to generate the iterates Aᵏx₀, for k ≧ 0\n",
    "function generateDTtraj(A, x0, nbSteps)\n",
    "    traj = zeros(length(x0), nbSteps+1)\n",
    "    traj[:,1] = x0\n",
    "    for k=1:nbSteps\n",
    "        traj[:,k+1] = A*traj[:,k]\n",
    "    end\n",
    "    return traj\n",
    "end"
   ]
  },
  {
   "cell_type": "markdown",
   "metadata": {},
   "source": [
    "## Issues with time-varying sampling time"
   ]
  },
  {
   "cell_type": "code",
   "execution_count": 5,
   "metadata": {},
   "outputs": [],
   "source": [
    "# CT ss data\n",
    "A1 = [1 3; 2 1]\n",
    "B1 = [1; 0.6]\n",
    "C1 = zeros(1, 2)\n",
    "D1 = zeros(1)\n",
    "K1 = -[1 6]\n",
    "# Sampling periods\n",
    "h1 = 0.18\n",
    "h2 = 0.54;"
   ]
  },
  {
   "cell_type": "code",
   "execution_count": 6,
   "metadata": {},
   "outputs": [],
   "source": [
    "sysc = ss(A1, B1, C1, D1);"
   ]
  },
  {
   "cell_type": "code",
   "execution_count": 7,
   "metadata": {},
   "outputs": [
    {
     "data": {
      "text/plain": [
       "2-element Array{Float64,1}:\n",
       " -1.3\n",
       " -1.3"
      ]
     },
     "execution_count": 7,
     "metadata": {},
     "output_type": "execute_result"
    }
   ],
   "source": [
    "real(eigvals(A1+B1*K1))  # make sure the CT system is stable"
   ]
  },
  {
   "cell_type": "code",
   "execution_count": 8,
   "metadata": {},
   "outputs": [
    {
     "name": "stdout",
     "output_type": "stream",
     "text": [
      "search: \u001b[1mc\u001b[22m\u001b[1m2\u001b[22m\u001b[1md\u001b[22m \u001b[1mc\u001b[22m\u001b[1m2\u001b[22m\u001b[1md\u001b[22m_poly2poly \u001b[1mc\u001b[22m\u001b[1m2\u001b[22m\u001b[1md\u001b[22m_roots2poly feedba\u001b[1mc\u001b[22mk\u001b[1m2\u001b[22m\u001b[1md\u001b[22mof \u001b[1mc\u001b[22mhr\u001b[1m2\u001b[22min\u001b[1md\u001b[22m \u001b[1mC\u001b[22momplex3\u001b[1m2\u001b[22m\n",
      "\n"
     ]
    },
    {
     "data": {
      "text/markdown": [
       "`[sysd, x0map] = c2d(sys, Ts, method=:zoh)`\n",
       "\n",
       "Convert the continuous system `sys` into a discrete system with sample time `Ts`, using the provided method. Currently only `:zoh` and `:foh` are provided.\n",
       "\n",
       "Returns the discrete system `sysd`, and a matrix `x0map` that transforms the initial conditions to the discrete domain by `x0_discrete = x0map*[x0; u0]`\n"
      ],
      "text/plain": [
       "`[sysd, x0map] = c2d(sys, Ts, method=:zoh)`\n",
       "\n",
       "Convert the continuous system `sys` into a discrete system with sample time `Ts`, using the provided method. Currently only `:zoh` and `:foh` are provided.\n",
       "\n",
       "Returns the discrete system `sysd`, and a matrix `x0map` that transforms the initial conditions to the discrete domain by `x0_discrete = x0map*[x0; u0]`\n"
      ]
     },
     "execution_count": 8,
     "metadata": {},
     "output_type": "execute_result"
    }
   ],
   "source": [
    "?c2d  # same function as in Matlab"
   ]
  },
  {
   "cell_type": "code",
   "execution_count": 9,
   "metadata": {},
   "outputs": [],
   "source": [
    "sysd1 = c2d(sysc, h1);  # discrete-time system for period h1"
   ]
  },
  {
   "cell_type": "code",
   "execution_count": 10,
   "metadata": {},
   "outputs": [
    {
     "name": "stdout",
     "output_type": "stream",
     "text": [
      "[1.31548 0.667648 0.237419; 0.445099 1.31548 0.159551; 0.0 0.0 1.0]\n",
      "[1.31548 0.667648; 0.445099 1.31548]\n",
      "[0.237419; 0.159551]\n"
     ]
    }
   ],
   "source": [
    "# Let's make sure this discretization is correct\n",
    "println(expm(h1*[A1 B1; 0 0 0]))  # see Lemma 5.4.2\n",
    "println(sysd1[1].A)\n",
    "println(sysd1[1].B)"
   ]
  },
  {
   "cell_type": "code",
   "execution_count": 11,
   "metadata": {},
   "outputs": [
    {
     "data": {
      "text/plain": [
       "2×2 Array{Float64,2}:\n",
       " 1.07807   -0.756866\n",
       " 0.285548   0.358176"
      ]
     },
     "execution_count": 11,
     "metadata": {},
     "output_type": "execute_result"
    }
   ],
   "source": [
    "Λ₁ = sysd1[1].A + sysd1[1].B * K1  # closed loop DT system for period h1"
   ]
  },
  {
   "cell_type": "code",
   "execution_count": 12,
   "metadata": {},
   "outputs": [
    {
     "data": {
      "text/plain": [
       "2-element Array{Float64,1}:\n",
       " 0.776053\n",
       " 0.776053"
      ]
     },
     "execution_count": 12,
     "metadata": {},
     "output_type": "execute_result"
    }
   ],
   "source": [
    "abs.(eigvals(Λ₁))"
   ]
  },
  {
   "cell_type": "code",
   "execution_count": 13,
   "metadata": {},
   "outputs": [
    {
     "data": {
      "text/plain": [
       "2-element Array{Float64,1}:\n",
       " 0.708291\n",
       " 0.708291"
      ]
     },
     "execution_count": 13,
     "metadata": {},
     "output_type": "execute_result"
    }
   ],
   "source": [
    "sysd2 = c2d(sysc, h2);  # discrete-time system for period h2\n",
    "Λ₂ = sysd2[1].A + sysd2[1].B * K1 \n",
    "abs.(eigvals(Λ₂))"
   ]
  },
  {
   "cell_type": "markdown",
   "metadata": {},
   "source": [
    "So both periodic sampled-data systems are stable in DT. What if the sampling period now switches between h1 and h2 every time. Let's look over two periods to recover time-invariance."
   ]
  },
  {
   "cell_type": "code",
   "execution_count": 14,
   "metadata": {},
   "outputs": [
    {
     "data": {
      "text/plain": [
       "2×2 Array{Float64,2}:\n",
       " 1.15571  -2.94245\n",
       " 1.06942  -2.46131"
      ]
     },
     "execution_count": 14,
     "metadata": {},
     "output_type": "execute_result"
    }
   ],
   "source": [
    "Λₐ = Λ₁ * Λ₂"
   ]
  },
  {
   "cell_type": "code",
   "execution_count": 15,
   "metadata": {},
   "outputs": [
    {
     "data": {
      "text/plain": [
       "2-element Array{Float64,1}:\n",
       " 0.300651\n",
       " 1.00495 "
      ]
     },
     "execution_count": 15,
     "metadata": {},
     "output_type": "execute_result"
    }
   ],
   "source": [
    "abs.(eigvals(Λₐ))"
   ]
  },
  {
   "cell_type": "markdown",
   "metadata": {},
   "source": [
    "We lost stability!"
   ]
  },
  {
   "cell_type": "code",
   "execution_count": 16,
   "metadata": {},
   "outputs": [
    {
     "data": {
      "text/html": [
       "<?xml version=\"1.0\" encoding=\"utf-8\"?>\n",
       "<svg xmlns=\"http://www.w3.org/2000/svg\" xmlns:xlink=\"http://www.w3.org/1999/xlink\" width=\"600\" height=\"400\" viewBox=\"0 0 600 400\">\n",
       "<defs>\n",
       "  <clipPath id=\"clip00\">\n",
       "    <rect x=\"0\" y=\"0\" width=\"600\" height=\"400\"/>\n",
       "  </clipPath>\n",
       "</defs>\n",
       "<polygon clip-path=\"url(#clip00)\" points=\"\n",
       "0,400 600,400 600,0 0,0 \n",
       "  \" fill=\"#ffffff\" fill-opacity=\"1\"/>\n",
       "<defs>\n",
       "  <clipPath id=\"clip01\">\n",
       "    <rect x=\"120\" y=\"0\" width=\"421\" height=\"400\"/>\n",
       "  </clipPath>\n",
       "</defs>\n",
       "<polygon clip-path=\"url(#clip00)\" points=\"\n",
       "39.1436,375.813 580.315,375.813 580.315,11.811 39.1436,11.811 \n",
       "  \" fill=\"#ffffff\" fill-opacity=\"1\"/>\n",
       "<defs>\n",
       "  <clipPath id=\"clip02\">\n",
       "    <rect x=\"39\" y=\"11\" width=\"542\" height=\"365\"/>\n",
       "  </clipPath>\n",
       "</defs>\n",
       "<polyline clip-path=\"url(#clip02)\" style=\"stroke:#00002d; stroke-width:0.4; stroke-opacity:0.1; fill:none\" points=\"\n",
       "  141.966,375.813 141.966,11.811 \n",
       "  \"/>\n",
       "<polyline clip-path=\"url(#clip02)\" style=\"stroke:#00002d; stroke-width:0.4; stroke-opacity:0.1; fill:none\" points=\"\n",
       "  250.2,375.813 250.2,11.811 \n",
       "  \"/>\n",
       "<polyline clip-path=\"url(#clip02)\" style=\"stroke:#00002d; stroke-width:0.4; stroke-opacity:0.1; fill:none\" points=\"\n",
       "  358.435,375.813 358.435,11.811 \n",
       "  \"/>\n",
       "<polyline clip-path=\"url(#clip02)\" style=\"stroke:#00002d; stroke-width:0.4; stroke-opacity:0.1; fill:none\" points=\"\n",
       "  466.669,375.813 466.669,11.811 \n",
       "  \"/>\n",
       "<polyline clip-path=\"url(#clip02)\" style=\"stroke:#00002d; stroke-width:0.4; stroke-opacity:0.1; fill:none\" points=\"\n",
       "  574.903,375.813 574.903,11.811 \n",
       "  \"/>\n",
       "<polyline clip-path=\"url(#clip02)\" style=\"stroke:#00002d; stroke-width:0.4; stroke-opacity:0.1; fill:none\" points=\"\n",
       "  39.1436,352.624 580.315,352.624 \n",
       "  \"/>\n",
       "<polyline clip-path=\"url(#clip02)\" style=\"stroke:#00002d; stroke-width:0.4; stroke-opacity:0.1; fill:none\" points=\"\n",
       "  39.1436,299.836 580.315,299.836 \n",
       "  \"/>\n",
       "<polyline clip-path=\"url(#clip02)\" style=\"stroke:#00002d; stroke-width:0.4; stroke-opacity:0.1; fill:none\" points=\"\n",
       "  39.1436,247.049 580.315,247.049 \n",
       "  \"/>\n",
       "<polyline clip-path=\"url(#clip02)\" style=\"stroke:#00002d; stroke-width:0.4; stroke-opacity:0.1; fill:none\" points=\"\n",
       "  39.1436,194.261 580.315,194.261 \n",
       "  \"/>\n",
       "<polyline clip-path=\"url(#clip02)\" style=\"stroke:#00002d; stroke-width:0.4; stroke-opacity:0.1; fill:none\" points=\"\n",
       "  39.1436,141.474 580.315,141.474 \n",
       "  \"/>\n",
       "<polyline clip-path=\"url(#clip02)\" style=\"stroke:#00002d; stroke-width:0.4; stroke-opacity:0.1; fill:none\" points=\"\n",
       "  39.1436,88.6864 580.315,88.6864 \n",
       "  \"/>\n",
       "<polyline clip-path=\"url(#clip02)\" style=\"stroke:#00002d; stroke-width:0.4; stroke-opacity:0.1; fill:none\" points=\"\n",
       "  39.1436,35.899 580.315,35.899 \n",
       "  \"/>\n",
       "<polyline clip-path=\"url(#clip00)\" style=\"stroke:#00002d; stroke-width:0.8; stroke-opacity:1; fill:none\" points=\"\n",
       "  39.1436,375.813 580.315,375.813 \n",
       "  \"/>\n",
       "<polyline clip-path=\"url(#clip00)\" style=\"stroke:#00002d; stroke-width:0.8; stroke-opacity:1; fill:none\" points=\"\n",
       "  39.1436,375.813 39.1436,11.811 \n",
       "  \"/>\n",
       "<polyline clip-path=\"url(#clip00)\" style=\"stroke:#00002d; stroke-width:0.8; stroke-opacity:1; fill:none\" points=\"\n",
       "  141.966,375.813 141.966,370.353 \n",
       "  \"/>\n",
       "<polyline clip-path=\"url(#clip00)\" style=\"stroke:#00002d; stroke-width:0.8; stroke-opacity:1; fill:none\" points=\"\n",
       "  250.2,375.813 250.2,370.353 \n",
       "  \"/>\n",
       "<polyline clip-path=\"url(#clip00)\" style=\"stroke:#00002d; stroke-width:0.8; stroke-opacity:1; fill:none\" points=\"\n",
       "  358.435,375.813 358.435,370.353 \n",
       "  \"/>\n",
       "<polyline clip-path=\"url(#clip00)\" style=\"stroke:#00002d; stroke-width:0.8; stroke-opacity:1; fill:none\" points=\"\n",
       "  466.669,375.813 466.669,370.353 \n",
       "  \"/>\n",
       "<polyline clip-path=\"url(#clip00)\" style=\"stroke:#00002d; stroke-width:0.8; stroke-opacity:1; fill:none\" points=\"\n",
       "  574.903,375.813 574.903,370.353 \n",
       "  \"/>\n",
       "<polyline clip-path=\"url(#clip00)\" style=\"stroke:#00002d; stroke-width:0.8; stroke-opacity:1; fill:none\" points=\"\n",
       "  39.1436,352.624 47.2612,352.624 \n",
       "  \"/>\n",
       "<polyline clip-path=\"url(#clip00)\" style=\"stroke:#00002d; stroke-width:0.8; stroke-opacity:1; fill:none\" points=\"\n",
       "  39.1436,299.836 47.2612,299.836 \n",
       "  \"/>\n",
       "<polyline clip-path=\"url(#clip00)\" style=\"stroke:#00002d; stroke-width:0.8; stroke-opacity:1; fill:none\" points=\"\n",
       "  39.1436,247.049 47.2612,247.049 \n",
       "  \"/>\n",
       "<polyline clip-path=\"url(#clip00)\" style=\"stroke:#00002d; stroke-width:0.8; stroke-opacity:1; fill:none\" points=\"\n",
       "  39.1436,194.261 47.2612,194.261 \n",
       "  \"/>\n",
       "<polyline clip-path=\"url(#clip00)\" style=\"stroke:#00002d; stroke-width:0.8; stroke-opacity:1; fill:none\" points=\"\n",
       "  39.1436,141.474 47.2612,141.474 \n",
       "  \"/>\n",
       "<polyline clip-path=\"url(#clip00)\" style=\"stroke:#00002d; stroke-width:0.8; stroke-opacity:1; fill:none\" points=\"\n",
       "  39.1436,88.6864 47.2612,88.6864 \n",
       "  \"/>\n",
       "<polyline clip-path=\"url(#clip00)\" style=\"stroke:#00002d; stroke-width:0.8; stroke-opacity:1; fill:none\" points=\"\n",
       "  39.1436,35.899 47.2612,35.899 \n",
       "  \"/>\n",
       "<g clip-path=\"url(#clip00)\">\n",
       "<text style=\"fill:#00002d; fill-opacity:1; font-family:Arial; font-size:12; text-anchor:middle;\" transform=\"rotate(0, 141.966, 389.613)\" x=\"141.966\" y=\"389.613\">20</text>\n",
       "</g>\n",
       "<g clip-path=\"url(#clip00)\">\n",
       "<text style=\"fill:#00002d; fill-opacity:1; font-family:Arial; font-size:12; text-anchor:middle;\" transform=\"rotate(0, 250.2, 389.613)\" x=\"250.2\" y=\"389.613\">40</text>\n",
       "</g>\n",
       "<g clip-path=\"url(#clip00)\">\n",
       "<text style=\"fill:#00002d; fill-opacity:1; font-family:Arial; font-size:12; text-anchor:middle;\" transform=\"rotate(0, 358.435, 389.613)\" x=\"358.435\" y=\"389.613\">60</text>\n",
       "</g>\n",
       "<g clip-path=\"url(#clip00)\">\n",
       "<text style=\"fill:#00002d; fill-opacity:1; font-family:Arial; font-size:12; text-anchor:middle;\" transform=\"rotate(0, 466.669, 389.613)\" x=\"466.669\" y=\"389.613\">80</text>\n",
       "</g>\n",
       "<g clip-path=\"url(#clip00)\">\n",
       "<text style=\"fill:#00002d; fill-opacity:1; font-family:Arial; font-size:12; text-anchor:middle;\" transform=\"rotate(0, 574.903, 389.613)\" x=\"574.903\" y=\"389.613\">100</text>\n",
       "</g>\n",
       "<g clip-path=\"url(#clip00)\">\n",
       "<text style=\"fill:#00002d; fill-opacity:1; font-family:Arial; font-size:12; text-anchor:end;\" transform=\"rotate(0, 33.1436, 357.124)\" x=\"33.1436\" y=\"357.124\">-0.3</text>\n",
       "</g>\n",
       "<g clip-path=\"url(#clip00)\">\n",
       "<text style=\"fill:#00002d; fill-opacity:1; font-family:Arial; font-size:12; text-anchor:end;\" transform=\"rotate(0, 33.1436, 304.336)\" x=\"33.1436\" y=\"304.336\">-0.2</text>\n",
       "</g>\n",
       "<g clip-path=\"url(#clip00)\">\n",
       "<text style=\"fill:#00002d; fill-opacity:1; font-family:Arial; font-size:12; text-anchor:end;\" transform=\"rotate(0, 33.1436, 251.549)\" x=\"33.1436\" y=\"251.549\">-0.1</text>\n",
       "</g>\n",
       "<g clip-path=\"url(#clip00)\">\n",
       "<text style=\"fill:#00002d; fill-opacity:1; font-family:Arial; font-size:12; text-anchor:end;\" transform=\"rotate(0, 33.1436, 198.761)\" x=\"33.1436\" y=\"198.761\">0.0</text>\n",
       "</g>\n",
       "<g clip-path=\"url(#clip00)\">\n",
       "<text style=\"fill:#00002d; fill-opacity:1; font-family:Arial; font-size:12; text-anchor:end;\" transform=\"rotate(0, 33.1436, 145.974)\" x=\"33.1436\" y=\"145.974\">0.1</text>\n",
       "</g>\n",
       "<g clip-path=\"url(#clip00)\">\n",
       "<text style=\"fill:#00002d; fill-opacity:1; font-family:Arial; font-size:12; text-anchor:end;\" transform=\"rotate(0, 33.1436, 93.1864)\" x=\"33.1436\" y=\"93.1864\">0.2</text>\n",
       "</g>\n",
       "<g clip-path=\"url(#clip00)\">\n",
       "<text style=\"fill:#00002d; fill-opacity:1; font-family:Arial; font-size:12; text-anchor:end;\" transform=\"rotate(0, 33.1436, 40.399)\" x=\"33.1436\" y=\"40.399\">0.3</text>\n",
       "</g>\n",
       "<polyline clip-path=\"url(#clip02)\" style=\"stroke:#0099ff; stroke-width:0.8; stroke-opacity:1; fill:none\" points=\"\n",
       "  39.1436,141.474 44.5553,141.474 44.5553,288.579 49.967,288.579 49.967,87.0698 55.3787,87.0698 55.3787,305.713 60.7904,305.713 60.7904,81.1363 66.2022,81.1363 \n",
       "  66.2022,308.283 71.6139,308.283 71.6139,79.574 77.0256,79.574 77.0256,309.547 82.4373,309.547 82.4373,78.3966 87.849,78.3966 87.849,310.702 93.2607,310.702 \n",
       "  93.2607,77.2437 98.6724,77.2437 98.6724,311.858 104.084,311.858 104.084,76.0827 109.496,76.0827 109.496,313.025 114.908,313.025 114.908,74.9105 120.319,74.9105 \n",
       "  120.319,314.203 125.731,314.203 125.731,73.7267 131.143,73.7267 131.143,315.392 136.554,315.392 136.554,72.5311 141.966,72.5311 141.966,316.594 147.378,316.594 \n",
       "  147.378,71.3237 152.79,71.3237 152.79,317.807 158.201,317.807 158.201,70.1043 163.613,70.1043 163.613,319.033 169.025,319.033 169.025,68.8728 174.436,68.8728 \n",
       "  174.436,320.27 179.848,320.27 179.848,67.6291 185.26,67.6291 185.26,321.52 190.672,321.52 190.672,66.373 196.083,66.373 196.083,322.782 201.495,322.782 \n",
       "  201.495,65.1045 206.907,65.1045 206.907,324.057 212.318,324.057 212.318,63.8234 217.73,63.8234 217.73,325.345 223.142,325.345 223.142,62.5296 228.554,62.5296 \n",
       "  228.554,326.645 233.965,326.645 233.965,61.223 239.377,61.223 239.377,327.958 244.789,327.958 244.789,59.9034 250.2,59.9034 250.2,329.284 255.612,329.284 \n",
       "  255.612,58.5707 261.024,58.5707 261.024,330.623 266.436,330.623 266.436,57.2248 271.847,57.2248 271.847,331.976 277.259,331.976 277.259,55.8656 282.671,55.8656 \n",
       "  282.671,333.342 288.082,333.342 288.082,54.4928 293.494,54.4928 293.494,334.721 298.906,334.721 298.906,53.1065 304.318,53.1065 304.318,336.114 309.729,336.114 \n",
       "  309.729,51.7064 315.141,51.7064 315.141,337.522 320.553,337.522 320.553,50.2924 325.964,50.2924 325.964,338.942 331.376,338.942 331.376,48.8644 336.788,48.8644 \n",
       "  336.788,340.378 342.2,340.378 342.2,47.4222 347.611,47.4222 347.611,341.827 353.023,341.827 353.023,45.9657 358.435,45.9657 358.435,343.291 363.846,343.291 \n",
       "  363.846,44.4948 369.258,44.4948 369.258,344.769 374.67,344.769 374.67,43.0093 380.082,43.0093 380.082,346.262 385.493,346.262 385.493,41.509 390.905,41.509 \n",
       "  390.905,347.769 396.317,347.769 396.317,39.9939 401.728,39.9939 401.728,349.292 407.14,349.292 407.14,38.4637 412.552,38.4637 412.552,350.83 417.964,350.83 \n",
       "  417.964,36.9184 423.375,36.9184 423.375,352.383 428.787,352.383 428.787,35.3577 434.199,35.3577 434.199,353.951 439.61,353.951 439.61,33.7816 445.022,33.7816 \n",
       "  445.022,355.535 450.434,355.535 450.434,32.1898 455.846,32.1898 455.846,357.135 461.257,357.135 461.257,30.5822 466.669,30.5822 466.669,358.75 472.081,358.75 \n",
       "  472.081,28.9587 477.492,28.9587 477.492,360.382 482.904,360.382 482.904,27.3191 488.316,27.3191 488.316,362.029 493.728,362.029 493.728,25.6632 499.139,25.6632 \n",
       "  499.139,363.694 504.551,363.694 504.551,23.9909 509.963,23.9909 509.963,365.374 515.374,365.374 515.374,22.302 520.786,22.302 520.786,367.071 526.198,367.071 \n",
       "  526.198,20.5964 531.61,20.5964 531.61,368.785 537.021,368.785 537.021,18.8738 542.433,18.8738 542.433,370.516 547.845,370.516 547.845,17.1342 553.256,17.1342 \n",
       "  553.256,372.265 558.668,372.265 558.668,15.3773 564.08,15.3773 564.08,374.03 569.492,374.03 569.492,13.603 574.903,13.603 574.903,375.813 580.315,375.813 \n",
       "  580.315,11.811 \n",
       "  \"/>\n",
       "<polygon clip-path=\"url(#clip00)\" points=\"\n",
       "489.799,62.931 562.315,62.931 562.315,32.691 489.799,32.691 \n",
       "  \" fill=\"#ffffff\" fill-opacity=\"1\"/>\n",
       "<polyline clip-path=\"url(#clip00)\" style=\"stroke:#00002d; stroke-width:0.8; stroke-opacity:1; fill:none\" points=\"\n",
       "  489.799,62.931 562.315,62.931 562.315,32.691 489.799,32.691 489.799,62.931 \n",
       "  \"/>\n",
       "<polyline clip-path=\"url(#clip00)\" style=\"stroke:#0099ff; stroke-width:0.8; stroke-opacity:1; fill:none\" points=\"\n",
       "  495.799,47.811 531.799,47.811 \n",
       "  \"/>\n",
       "<g clip-path=\"url(#clip00)\">\n",
       "<text style=\"fill:#00002d; fill-opacity:1; font-family:Arial; font-size:12; text-anchor:start;\" transform=\"rotate(0, 537.799, 52.311)\" x=\"537.799\" y=\"52.311\">y1</text>\n",
       "</g>\n",
       "</svg>\n"
      ]
     },
     "execution_count": 16,
     "metadata": {},
     "output_type": "execute_result"
    }
   ],
   "source": [
    "traj = generateDTtraj(Λₐ, [0.1, 0.1], 100)\n",
    "plot(traj[1,:], line = :step)"
   ]
  },
  {
   "cell_type": "code",
   "execution_count": 17,
   "metadata": {},
   "outputs": [],
   "source": [
    "# A converse example\n",
    "# CT ss data\n",
    "A2 = [0 1; -2 0.1]\n",
    "B2 = [0; 1]\n",
    "C2 = zeros(1, 2)\n",
    "D2 = zeros(1)\n",
    "K2 = [1 0]\n",
    "# Sampling periods\n",
    "h3 = 2.126\n",
    "h4 = 3.95;"
   ]
  },
  {
   "cell_type": "markdown",
   "metadata": {},
   "source": [
    "Here, the CT system, and each periodically sampled system are unstable."
   ]
  },
  {
   "cell_type": "code",
   "execution_count": 18,
   "metadata": {},
   "outputs": [
    {
     "name": "stdout",
     "output_type": "stream",
     "text": [
      "[0.05, 0.05]\n",
      "[0.0647339, 1.08522]\n",
      "[1.09271, 1.09271]\n"
     ]
    }
   ],
   "source": [
    "println(real(eigvals(A2+B2*K2)))\n",
    "sysc2 = ss(A2, B2, C2, D2);\n",
    "sysd3 = c2d(sysc2, h3);\n",
    "sysd4 = c2d(sysc2, h4);\n",
    "Λ₃ = sysd3[1].A + sysd3[1].B * K2\n",
    "println(abs.(eigvals(Λ₃)))\n",
    "Λ₄ = sysd4[1].A + sysd4[1].B * K2\n",
    "println(abs.(eigvals(Λ₄)))"
   ]
  },
  {
   "cell_type": "markdown",
   "metadata": {},
   "source": [
    "Now let's look again at a sequence of sampling periods switching between h3 and h4."
   ]
  },
  {
   "cell_type": "code",
   "execution_count": 19,
   "metadata": {},
   "outputs": [
    {
     "name": "stdout",
     "output_type": "stream",
     "text": [
      "[0.102064, 0.821837]\n"
     ]
    }
   ],
   "source": [
    "Λᵦ = Λ₃ * Λ₄\n",
    "println(abs.(eigvals(Λᵦ)))"
   ]
  },
  {
   "cell_type": "markdown",
   "metadata": {},
   "source": [
    "With this particular sequence of sampling times, we get stability back!"
   ]
  },
  {
   "cell_type": "code",
   "execution_count": 20,
   "metadata": {},
   "outputs": [
    {
     "data": {
      "text/html": [
       "<?xml version=\"1.0\" encoding=\"utf-8\"?>\n",
       "<svg xmlns=\"http://www.w3.org/2000/svg\" xmlns:xlink=\"http://www.w3.org/1999/xlink\" width=\"600\" height=\"400\" viewBox=\"0 0 600 400\">\n",
       "<defs>\n",
       "  <clipPath id=\"clip00\">\n",
       "    <rect x=\"0\" y=\"0\" width=\"600\" height=\"400\"/>\n",
       "  </clipPath>\n",
       "</defs>\n",
       "<polygon clip-path=\"url(#clip00)\" points=\"\n",
       "0,400 600,400 600,0 0,0 \n",
       "  \" fill=\"#ffffff\" fill-opacity=\"1\"/>\n",
       "<defs>\n",
       "  <clipPath id=\"clip01\">\n",
       "    <rect x=\"120\" y=\"0\" width=\"421\" height=\"400\"/>\n",
       "  </clipPath>\n",
       "</defs>\n",
       "<polygon clip-path=\"url(#clip00)\" points=\"\n",
       "38.8117,375.813 580.315,375.813 580.315,11.811 38.8117,11.811 \n",
       "  \" fill=\"#ffffff\" fill-opacity=\"1\"/>\n",
       "<defs>\n",
       "  <clipPath id=\"clip02\">\n",
       "    <rect x=\"38\" y=\"11\" width=\"542\" height=\"365\"/>\n",
       "  </clipPath>\n",
       "</defs>\n",
       "<polyline clip-path=\"url(#clip02)\" style=\"stroke:#00002d; stroke-width:0.4; stroke-opacity:0.1; fill:none\" points=\"\n",
       "  160.65,375.813 160.65,11.811 \n",
       "  \"/>\n",
       "<polyline clip-path=\"url(#clip02)\" style=\"stroke:#00002d; stroke-width:0.4; stroke-opacity:0.1; fill:none\" points=\"\n",
       "  296.026,375.813 296.026,11.811 \n",
       "  \"/>\n",
       "<polyline clip-path=\"url(#clip02)\" style=\"stroke:#00002d; stroke-width:0.4; stroke-opacity:0.1; fill:none\" points=\"\n",
       "  431.402,375.813 431.402,11.811 \n",
       "  \"/>\n",
       "<polyline clip-path=\"url(#clip02)\" style=\"stroke:#00002d; stroke-width:0.4; stroke-opacity:0.1; fill:none\" points=\"\n",
       "  566.777,375.813 566.777,11.811 \n",
       "  \"/>\n",
       "<polyline clip-path=\"url(#clip02)\" style=\"stroke:#00002d; stroke-width:0.4; stroke-opacity:0.1; fill:none\" points=\"\n",
       "  38.8117,313.225 580.315,313.225 \n",
       "  \"/>\n",
       "<polyline clip-path=\"url(#clip02)\" style=\"stroke:#00002d; stroke-width:0.4; stroke-opacity:0.1; fill:none\" points=\"\n",
       "  38.8117,237.872 580.315,237.872 \n",
       "  \"/>\n",
       "<polyline clip-path=\"url(#clip02)\" style=\"stroke:#00002d; stroke-width:0.4; stroke-opacity:0.1; fill:none\" points=\"\n",
       "  38.8117,162.518 580.315,162.518 \n",
       "  \"/>\n",
       "<polyline clip-path=\"url(#clip02)\" style=\"stroke:#00002d; stroke-width:0.4; stroke-opacity:0.1; fill:none\" points=\"\n",
       "  38.8117,87.1646 580.315,87.1646 \n",
       "  \"/>\n",
       "<polyline clip-path=\"url(#clip02)\" style=\"stroke:#00002d; stroke-width:0.4; stroke-opacity:0.1; fill:none\" points=\"\n",
       "  38.8117,11.811 580.315,11.811 \n",
       "  \"/>\n",
       "<polyline clip-path=\"url(#clip00)\" style=\"stroke:#00002d; stroke-width:0.8; stroke-opacity:1; fill:none\" points=\"\n",
       "  38.8117,375.813 580.315,375.813 \n",
       "  \"/>\n",
       "<polyline clip-path=\"url(#clip00)\" style=\"stroke:#00002d; stroke-width:0.8; stroke-opacity:1; fill:none\" points=\"\n",
       "  38.8117,375.813 38.8117,11.811 \n",
       "  \"/>\n",
       "<polyline clip-path=\"url(#clip00)\" style=\"stroke:#00002d; stroke-width:0.8; stroke-opacity:1; fill:none\" points=\"\n",
       "  160.65,375.813 160.65,370.353 \n",
       "  \"/>\n",
       "<polyline clip-path=\"url(#clip00)\" style=\"stroke:#00002d; stroke-width:0.8; stroke-opacity:1; fill:none\" points=\"\n",
       "  296.026,375.813 296.026,370.353 \n",
       "  \"/>\n",
       "<polyline clip-path=\"url(#clip00)\" style=\"stroke:#00002d; stroke-width:0.8; stroke-opacity:1; fill:none\" points=\"\n",
       "  431.402,375.813 431.402,370.353 \n",
       "  \"/>\n",
       "<polyline clip-path=\"url(#clip00)\" style=\"stroke:#00002d; stroke-width:0.8; stroke-opacity:1; fill:none\" points=\"\n",
       "  566.777,375.813 566.777,370.353 \n",
       "  \"/>\n",
       "<polyline clip-path=\"url(#clip00)\" style=\"stroke:#00002d; stroke-width:0.8; stroke-opacity:1; fill:none\" points=\"\n",
       "  38.8117,313.225 46.9343,313.225 \n",
       "  \"/>\n",
       "<polyline clip-path=\"url(#clip00)\" style=\"stroke:#00002d; stroke-width:0.8; stroke-opacity:1; fill:none\" points=\"\n",
       "  38.8117,237.872 46.9343,237.872 \n",
       "  \"/>\n",
       "<polyline clip-path=\"url(#clip00)\" style=\"stroke:#00002d; stroke-width:0.8; stroke-opacity:1; fill:none\" points=\"\n",
       "  38.8117,162.518 46.9343,162.518 \n",
       "  \"/>\n",
       "<polyline clip-path=\"url(#clip00)\" style=\"stroke:#00002d; stroke-width:0.8; stroke-opacity:1; fill:none\" points=\"\n",
       "  38.8117,87.1646 46.9343,87.1646 \n",
       "  \"/>\n",
       "<polyline clip-path=\"url(#clip00)\" style=\"stroke:#00002d; stroke-width:0.8; stroke-opacity:1; fill:none\" points=\"\n",
       "  38.8117,11.811 46.9343,11.811 \n",
       "  \"/>\n",
       "<g clip-path=\"url(#clip00)\">\n",
       "<text style=\"fill:#00002d; fill-opacity:1; font-family:Arial; font-size:12; text-anchor:middle;\" transform=\"rotate(0, 160.65, 389.613)\" x=\"160.65\" y=\"389.613\">10</text>\n",
       "</g>\n",
       "<g clip-path=\"url(#clip00)\">\n",
       "<text style=\"fill:#00002d; fill-opacity:1; font-family:Arial; font-size:12; text-anchor:middle;\" transform=\"rotate(0, 296.026, 389.613)\" x=\"296.026\" y=\"389.613\">20</text>\n",
       "</g>\n",
       "<g clip-path=\"url(#clip00)\">\n",
       "<text style=\"fill:#00002d; fill-opacity:1; font-family:Arial; font-size:12; text-anchor:middle;\" transform=\"rotate(0, 431.402, 389.613)\" x=\"431.402\" y=\"389.613\">30</text>\n",
       "</g>\n",
       "<g clip-path=\"url(#clip00)\">\n",
       "<text style=\"fill:#00002d; fill-opacity:1; font-family:Arial; font-size:12; text-anchor:middle;\" transform=\"rotate(0, 566.777, 389.613)\" x=\"566.777\" y=\"389.613\">40</text>\n",
       "</g>\n",
       "<g clip-path=\"url(#clip00)\">\n",
       "<text style=\"fill:#00002d; fill-opacity:1; font-family:Arial; font-size:12; text-anchor:end;\" transform=\"rotate(0, 32.8117, 317.725)\" x=\"32.8117\" y=\"317.725\">0.00</text>\n",
       "</g>\n",
       "<g clip-path=\"url(#clip00)\">\n",
       "<text style=\"fill:#00002d; fill-opacity:1; font-family:Arial; font-size:12; text-anchor:end;\" transform=\"rotate(0, 32.8117, 242.372)\" x=\"32.8117\" y=\"242.372\">0.25</text>\n",
       "</g>\n",
       "<g clip-path=\"url(#clip00)\">\n",
       "<text style=\"fill:#00002d; fill-opacity:1; font-family:Arial; font-size:12; text-anchor:end;\" transform=\"rotate(0, 32.8117, 167.018)\" x=\"32.8117\" y=\"167.018\">0.50</text>\n",
       "</g>\n",
       "<g clip-path=\"url(#clip00)\">\n",
       "<text style=\"fill:#00002d; fill-opacity:1; font-family:Arial; font-size:12; text-anchor:end;\" transform=\"rotate(0, 32.8117, 91.6646)\" x=\"32.8117\" y=\"91.6646\">0.75</text>\n",
       "</g>\n",
       "<g clip-path=\"url(#clip00)\">\n",
       "<text style=\"fill:#00002d; fill-opacity:1; font-family:Arial; font-size:12; text-anchor:end;\" transform=\"rotate(0, 32.8117, 16.311)\" x=\"32.8117\" y=\"16.311\">1.00</text>\n",
       "</g>\n",
       "<polyline clip-path=\"url(#clip02)\" style=\"stroke:#0099ff; stroke-width:0.8; stroke-opacity:1; fill:none\" points=\"\n",
       "  38.8117,11.811 52.3493,11.811 52.3493,272.847 65.8869,272.847 65.8869,375.813 79.4245,375.813 79.4245,258.787 92.9621,258.787 92.9621,358.271 106.5,358.271 \n",
       "  106.5,276.174 120.037,276.174 120.037,343.679 133.575,343.679 133.575,288.197 147.112,288.197 147.112,333.794 160.65,333.794 160.65,296.321 174.188,296.321 \n",
       "  174.188,327.118 187.725,327.118 187.725,301.808 201.263,301.808 201.263,322.609 214.8,322.609 214.8,305.514 228.338,305.514 228.338,319.563 241.875,319.563 \n",
       "  241.875,308.017 255.413,308.017 255.413,317.506 268.951,317.506 268.951,309.707 282.488,309.707 282.488,316.117 296.026,316.117 296.026,310.849 309.563,310.849 \n",
       "  309.563,315.178 323.101,315.178 323.101,311.621 336.639,311.621 336.639,314.544 350.176,314.544 350.176,312.141 363.714,312.141 363.714,314.116 377.251,314.116 \n",
       "  377.251,312.493 390.789,312.493 390.789,313.827 404.326,313.827 404.326,312.731 417.864,312.731 417.864,313.632 431.402,313.632 431.402,312.891 444.939,312.891 \n",
       "  444.939,313.5 458.477,313.5 458.477,313 472.014,313 472.014,313.411 485.552,313.411 485.552,313.073 499.089,313.073 499.089,313.351 512.627,313.351 \n",
       "  512.627,313.122 526.165,313.122 526.165,313.31 539.702,313.31 539.702,313.156 553.24,313.156 553.24,313.282 566.777,313.282 566.777,313.178 580.315,313.178 \n",
       "  580.315,313.264 \n",
       "  \"/>\n",
       "<polygon clip-path=\"url(#clip00)\" points=\"\n",
       "489.799,62.931 562.315,62.931 562.315,32.691 489.799,32.691 \n",
       "  \" fill=\"#ffffff\" fill-opacity=\"1\"/>\n",
       "<polyline clip-path=\"url(#clip00)\" style=\"stroke:#00002d; stroke-width:0.8; stroke-opacity:1; fill:none\" points=\"\n",
       "  489.799,62.931 562.315,62.931 562.315,32.691 489.799,32.691 489.799,62.931 \n",
       "  \"/>\n",
       "<polyline clip-path=\"url(#clip00)\" style=\"stroke:#0099ff; stroke-width:0.8; stroke-opacity:1; fill:none\" points=\"\n",
       "  495.799,47.811 531.799,47.811 \n",
       "  \"/>\n",
       "<g clip-path=\"url(#clip00)\">\n",
       "<text style=\"fill:#00002d; fill-opacity:1; font-family:Arial; font-size:12; text-anchor:start;\" transform=\"rotate(0, 537.799, 52.311)\" x=\"537.799\" y=\"52.311\">y1</text>\n",
       "</g>\n",
       "</svg>\n"
      ]
     },
     "execution_count": 20,
     "metadata": {},
     "output_type": "execute_result"
    }
   ],
   "source": [
    "traj = generateDTtraj(Λᵦ, [1, 1], 40)\n",
    "plot(traj[1,:], line = :step)"
   ]
  },
  {
   "cell_type": "markdown",
   "metadata": {},
   "source": [
    "    This is related to well-known phenomena for switched systems. Switching can be destabilizing, as in the first example, or stabilizing, as in the second example. What happens is best understood in the phase plane for such 2-dimensional systems. See for example [this paper](http://liberzon.csl.illinois.edu/research/survey.pdf) of an introduction to switched systems."
   ]
  },
  {
   "cell_type": "markdown",
   "metadata": {},
   "source": [
    "## Maximum inter-sample time for aperiodic sampling"
   ]
  },
  {
   "cell_type": "markdown",
   "metadata": {},
   "source": [
    "Reference: L. Mirkin, \"Some Remarks on the Use of Time-Varying Delay to Model Sample-and-Hold Circuits\", IEEE Transactions on Automatic Control, 2007,\n",
    "and class discussion."
   ]
  },
  {
   "cell_type": "markdown",
   "metadata": {},
   "source": [
    "### SISO Plant"
   ]
  },
  {
   "cell_type": "code",
   "execution_count": 21,
   "metadata": {},
   "outputs": [],
   "source": [
    "A = [0 1; 0 -0.1]\n",
    "B = [0; 0.1]\n",
    "C = zeros(1, 2)\n",
    "D = zeros(1)\n",
    "K = -[3.75 11.5]\n",
    "sys = ss(A+B*K, B, K*(A+B*K), K*B);"
   ]
  },
  {
   "cell_type": "code",
   "execution_count": 22,
   "metadata": {},
   "outputs": [
    {
     "data": {
      "text/html": [
       "1.365908483478383"
      ],
      "text/plain": [
       "1.365908483478383"
      ]
     },
     "execution_count": 22,
     "metadata": {},
     "output_type": "execute_result"
    }
   ],
   "source": [
    "#hM = pi/(2*norm(sys, Inf))\n",
    "hM = pi/(2*norm(sys, Inf)[1])   # for older version of ControlSystems, Julia 0.5"
   ]
  },
  {
   "cell_type": "markdown",
   "metadata": {},
   "source": [
    "### MIMO Plant and LMI"
   ]
  },
  {
   "cell_type": "markdown",
   "metadata": {},
   "source": [
    "If the nominal system is MIMO, we can search for the maximum hM by dichotomy, using the scaled small gain theorem with matrix multipliers. This reduces to the feasibility of the following LMI by the bounded real lemma, see discussion in class. \n",
    "\n",
    "We pose the semi-definite programming using [JuMP](https://github.com/JuliaOpt/JuMP.jl), a modeling framework for optimization problems in Julia, we solve it using [SCS](https://github.com/JuliaOpt/SCS.jl) or [Mosek](https://github.com/JuliaOpt/Mosek.jl) as back-end SDP solver."
   ]
  },
  {
   "cell_type": "code",
   "execution_count": 23,
   "metadata": {},
   "outputs": [],
   "source": [
    "using JuMP\n",
    "using SCS\n",
    "#using Mosek  # Currently does not seem to work"
   ]
  },
  {
   "cell_type": "markdown",
   "metadata": {},
   "source": [
    "As an exercise, let's redo the above computation, but less efficiently (see class discussion: this corresponds to not making the HS block commute with K on the \"good side\")."
   ]
  },
  {
   "cell_type": "code",
   "execution_count": 24,
   "metadata": {},
   "outputs": [],
   "source": [
    "Acl = A+B*K; Bcl = B*K; Ccl = Acl; Dcl = Bcl;\n",
    "n1 = size(Acl, 1); m1 = size(Dcl, 1);"
   ]
  },
  {
   "cell_type": "code",
   "execution_count": 25,
   "metadata": {},
   "outputs": [],
   "source": [
    "hMtest = 1.366;\n",
    "Γ = (4*hMtest^2/pi^2)^(-1);"
   ]
  },
  {
   "cell_type": "code",
   "execution_count": 26,
   "metadata": {},
   "outputs": [],
   "source": [
    "optModel = Model(solver=SCSSolver());\n",
    "#optModel = Model(solver=MosekSolver());"
   ]
  },
  {
   "cell_type": "code",
   "execution_count": 27,
   "metadata": {},
   "outputs": [],
   "source": [
    "@variable(optModel, P[1:n1,1:n1], SDP);\n",
    "@variable(optModel, Y[1:m1,1:m1], SDP);"
   ]
  },
  {
   "cell_type": "code",
   "execution_count": 28,
   "metadata": {},
   "outputs": [],
   "source": [
    "myeps = 1  # By homogeneity, we can replace > 0 by >= I (since SDP solvers handle only >=)\n",
    "@SDconstraint(optModel, P >= myeps*eye(n1));\n",
    "@SDconstraint(optModel, Y >= myeps*eye(m1));"
   ]
  },
  {
   "cell_type": "code",
   "execution_count": 29,
   "metadata": {},
   "outputs": [],
   "source": [
    "L11 = Acl'*P+P*Acl+Ccl'*Y*Ccl;\n",
    "L12 = P*Bcl+Ccl'*Y*Dcl;\n",
    "L22 = Dcl'*Y*Dcl - Γ*Y; \n",
    "@SDconstraint(optModel, hvcat((2,2), L11, L12, L12', L22) <= -myeps*eye(n1+m1,n1+m1));"
   ]
  },
  {
   "cell_type": "code",
   "execution_count": 30,
   "metadata": {},
   "outputs": [
    {
     "name": "stdout",
     "output_type": "stream",
     "text": [
      "----------------------------------------------------------------------------\n",
      "\tSCS v1.2.6 - Splitting Conic Solver\n",
      "\t(c) Brendan O'Donoghue, Stanford University, 2012-2016\n",
      "----------------------------------------------------------------------------\n",
      "Lin-sys: sparse-direct, nnz in A = 39\n",
      "eps = 1.00e-04, alpha = 1.80, max_iters = 20000, normalize = 1, scale = 5.00\n",
      "Variables n = 6, constraints m = 22\n",
      "Cones:\tsd vars: 22, sd blks: 5\n",
      "Setup time: 7.33e-04s\n",
      "----------------------------------------------------------------------------\n",
      " Iter | pri res | dua res | rel gap | pri obj | dua obj | kap/tau | time (s)\n",
      "----------------------------------------------------------------------------\n",
      "     0|      inf       inf       nan       nan       inf       inf  5.80e-04 \n",
      "   100|      inf       inf       nan       nan       inf       inf  8.99e-04 \n",
      "   200|      inf       inf       nan       nan       inf       inf  1.19e-03 \n",
      "   300|      inf       inf       nan       nan       inf       inf  1.47e-03 \n",
      "   400|      inf       inf       nan       nan       inf       inf  1.75e-03 \n",
      "   500|      inf       inf       nan       nan       inf       inf  2.03e-03 \n",
      "   600|      inf       inf       nan       nan       inf       inf  2.31e-03 \n",
      "   700|      inf       inf       nan       nan       inf       inf  2.60e-03 \n",
      "   800|      inf       inf       nan       nan       inf       inf  2.88e-03 \n",
      "   900|      inf       inf       nan       nan       inf       inf  3.16e-03 \n",
      "  1000|      inf       inf       nan       nan       inf       inf  3.44e-03 \n",
      "  1100|      inf       inf       nan       nan       inf       inf  3.72e-03 \n",
      "  1200|      inf       inf       nan       nan       inf       inf  4.00e-03 \n",
      "  1300|      inf       inf       nan       nan       inf       inf  4.28e-03 \n",
      "  1400|      inf       inf       nan       nan       inf       inf  4.56e-03 \n",
      "  1500|      inf       inf       nan       nan       inf       inf  4.84e-03 \n",
      "  1600|      inf       inf       nan       nan       inf       inf  5.12e-03 \n",
      "  1700|      inf       inf       nan       nan       inf       inf  5.39e-03 \n",
      "  1800|      inf       inf       nan       nan       inf       inf  5.67e-03 \n",
      "  1900|      inf       inf       nan       nan       inf       inf  5.95e-03 \n",
      "  2000|      inf       inf       nan       nan       inf       inf  6.23e-03 \n",
      "  2100|      inf       inf       nan       nan       inf       inf  6.50e-03 \n",
      "  2200|      inf       inf       nan       nan       inf       inf  6.78e-03 \n",
      "  2300|      inf       inf       nan       nan       inf       inf  7.06e-03 \n",
      "  2400|      inf       inf       nan       nan       inf       inf  7.34e-03 \n",
      "  2500|      inf       inf       nan       nan       inf       inf  7.61e-03 \n",
      "  2600|      inf       inf       nan       nan       inf       inf  7.89e-03 \n",
      "  2700|      inf       inf       nan       nan       inf       inf  8.17e-03 \n",
      "  2800|      inf       inf       nan       nan       inf       inf  8.44e-03 \n",
      "  2900|      inf       inf       nan       nan       inf       inf  8.70e-03 \n",
      "  3000|      inf       inf       nan       nan       inf       inf  9.00e-03 \n",
      "  3100|      inf       inf       nan       nan       inf       inf  9.28e-03 \n",
      "  3200|      inf       inf       nan       nan       inf       inf  9.54e-03 \n",
      "  3300|      inf       inf       nan       nan       inf       inf  9.80e-03 \n",
      "  3400|      inf       inf       nan       nan       inf       inf  1.01e-02 \n",
      "  3500|      inf       inf       nan       nan       inf       inf  1.03e-02 \n",
      "  3600|      inf       inf       nan       nan       inf       inf  1.06e-02 \n",
      "  3700|      inf       inf       nan       nan       inf       inf  1.08e-02 \n",
      "  3800|      inf       inf       nan       nan       inf       inf  1.11e-02 \n",
      "  3900|      inf       inf       nan       nan       inf       inf  1.14e-02 \n",
      "  4000|      inf       inf       nan       nan       inf       inf  1.16e-02 \n",
      "  4100|      inf       inf       nan       nan       inf       inf  1.19e-02 \n",
      "  4200|      inf       inf       nan       nan       inf       inf  1.21e-02 \n",
      "  4300|      inf       inf       nan       nan       inf       inf  1.24e-02 \n",
      "  4400|      inf       inf       nan       nan       inf       inf  1.27e-02 \n",
      "  4500|      inf       inf       nan       nan       inf       inf  1.29e-02 \n",
      "  4600|      inf       inf       nan       nan       inf       inf  1.32e-02 \n",
      "  4700|      inf       inf       nan       nan       inf       inf  1.36e-02 \n",
      "  4800|      inf       inf       nan       nan       inf       inf  1.39e-02 \n",
      "  4900|      inf       inf       nan       nan       inf       inf  1.42e-02 \n",
      "  5000|      inf       inf       nan       nan       inf       inf  1.46e-02 \n",
      "  5100|      inf       inf       nan       nan       inf       inf  1.50e-02 \n",
      "  5200|      inf       inf       nan       nan       inf       inf  1.53e-02 \n",
      "  5300|      inf       inf       nan       nan       inf       inf  1.56e-02 \n",
      "  5400|      inf       inf       nan       nan       inf       inf  1.60e-02 \n",
      "  5500|      inf       inf       nan       nan       inf       inf  1.63e-02 \n",
      "  5600|      inf       inf       nan       nan       inf       inf  1.66e-02 \n",
      "  5700|      inf       inf       nan       nan       inf       inf  1.70e-02 \n",
      "  5800|      inf       inf       nan       nan       inf       inf  1.73e-02 \n",
      "  5900|      inf       inf       nan       nan       inf       inf  1.76e-02 \n",
      "  6000|      inf       inf       nan       nan       inf       inf  1.80e-02 \n",
      "  6100|      inf       inf       nan       nan       inf       inf  1.84e-02 \n",
      "  6200|      inf       inf       nan       nan       inf       inf  1.87e-02 \n",
      "  6300|      inf       inf       nan       nan       inf       inf  1.90e-02 \n",
      "  6400|      inf       inf       nan       nan       inf       inf  1.94e-02 \n",
      "  6500|      inf       inf       nan       nan       inf       inf  1.97e-02 \n",
      "  6600|      inf       inf       nan       nan       inf       inf  2.00e-02 \n",
      "  6700|      inf       inf       nan       nan       inf       inf  2.04e-02 \n",
      "  6800|      inf       inf       nan       nan       inf       inf  2.08e-02 \n",
      "  6900|      inf       inf       nan       nan       inf       inf  2.11e-02 \n",
      "  7000|      inf       inf       nan       nan       inf       inf  2.15e-02 \n",
      "  7100|      inf       inf       nan       nan       inf       inf  2.18e-02 \n",
      "  7200|      inf       inf       nan       nan       inf       inf  2.21e-02 \n",
      "  7300|      inf       inf       nan       nan       inf       inf  2.25e-02 \n",
      "  7400|      inf       inf       nan       nan       inf       inf  2.28e-02 \n",
      "  7500|      inf       inf       nan       nan       inf       inf  2.32e-02 \n",
      "  7600|      inf       inf       nan       nan       inf       inf  2.35e-02 \n",
      "  7700|      inf       inf       nan       nan       inf       inf  2.38e-02 \n",
      "  7800|      inf       inf       nan       nan       inf       inf  2.42e-02 \n",
      "  7900|      inf       inf       nan       nan       inf       inf  2.45e-02 \n",
      "  8000|      inf       inf       nan       nan       inf       inf  2.49e-02 \n",
      "  8100|      inf       inf       nan       nan       inf       inf  2.52e-02 \n",
      "  8200|      inf       inf       nan       nan       inf       inf  2.55e-02 \n",
      "  8300|      inf       inf       nan       nan       inf       inf  2.59e-02 \n",
      "  8400|      inf       inf       nan       nan       inf       inf  2.63e-02 \n",
      "  8500|      inf       inf       nan       nan       inf       inf  2.67e-02 \n",
      "  8600|      inf       inf       nan       nan       inf       inf  2.70e-02 \n",
      "  8700|      inf       inf       nan       nan       inf       inf  2.74e-02 \n",
      "  8800|      inf       inf       nan       nan       inf       inf  2.77e-02 \n",
      "  8900|      inf       inf       nan       nan       inf       inf  2.81e-02 \n",
      "  9000|      inf       inf       nan       nan       inf       inf  2.84e-02 \n",
      "  9100|      inf       inf       nan       nan       inf       inf  2.87e-02 \n",
      "  9200|      inf       inf       nan       nan       inf       inf  2.91e-02 \n",
      "  9300|      inf       inf       nan       nan       inf       inf  2.94e-02 \n",
      "  9400|      inf       inf       nan       nan       inf       inf  2.98e-02 \n",
      "  9500|      inf       inf       nan       nan       inf       inf  3.01e-02 \n",
      "  9600|      inf       inf       nan       nan       inf       inf  3.04e-02 \n",
      "  9700|      inf       inf       nan       nan       inf       inf  3.08e-02 \n",
      "  9800|      inf       inf       nan       nan       inf       inf  3.12e-02 \n",
      "  9900|      inf       inf       nan       nan       inf       inf  3.16e-02 \n",
      " 10000|      inf       inf       nan       nan       inf       inf  3.20e-02 \n",
      " 10100|      inf       inf       nan       nan       inf       inf  3.23e-02 \n",
      " 10200|      inf       inf       nan       nan       inf       inf  3.27e-02 \n",
      " 10300|      inf       inf       nan       nan       inf       inf  3.30e-02 \n",
      " 10400|      inf       inf       nan       nan       inf       inf  3.33e-02 \n",
      " 10500|      inf       inf       nan       nan       inf       inf  3.37e-02 \n",
      " 10600|      inf       inf       nan       nan       inf       inf  3.40e-02 \n",
      " 10700|      inf       inf       nan       nan       inf       inf  3.44e-02 \n",
      " 10800|      inf       inf       nan       nan       inf       inf  3.47e-02 \n",
      " 10900|      inf       inf       nan       nan       inf       inf  3.50e-02 \n",
      " 11000|      inf       inf       nan       nan       inf       inf  3.54e-02 \n",
      " 11100|      inf       inf       nan       nan       inf       inf  3.57e-02 \n",
      " 11200|      inf       inf       nan       nan       inf       inf  3.61e-02 \n",
      " 11300|      inf       inf       nan       nan       inf       inf  3.64e-02 \n",
      " 11400|      inf       inf       nan       nan       inf       inf  3.67e-02 \n",
      " 11500|      inf       inf       nan       nan       inf       inf  3.71e-02 \n",
      " 11600|      inf       inf       nan       nan       inf       inf  3.75e-02 \n",
      " 11700|      inf       inf       nan       nan       inf       inf  3.78e-02 \n",
      "----------------------------------------------------------------------------\n",
      "Status: Infeasible\n",
      "Timing: Solve time: 3.79e-02s\n",
      "\tLin-sys: nnz in L factor: 74, avg solve time: 2.22e-07s\n",
      "\tCones: avg projection time: 2.71e-06s\n",
      "----------------------------------------------------------------------------\n",
      "Certificate of primal infeasibility:\n",
      "dist(y, K*) = 1.5025e-09\n",
      "|A'y|_2 * |b|_2 = 2.2243e-05\n",
      "b'y = -1.0000\n",
      "============================================================================\n"
     ]
    },
    {
     "name": "stderr",
     "output_type": "stream",
     "text": [
      "\u001b[1m\u001b[33mWARNING: \u001b[39m\u001b[22m\u001b[33mNot solved to optimality, status: Infeasible\u001b[39m\n"
     ]
    }
   ],
   "source": [
    "status = solve(optModel);"
   ]
  },
  {
   "cell_type": "code",
   "execution_count": 31,
   "metadata": {},
   "outputs": [
    {
     "data": {
      "text/plain": [
       ":Infeasible"
      ]
     },
     "execution_count": 31,
     "metadata": {},
     "output_type": "execute_result"
    }
   ],
   "source": [
    "status"
   ]
  },
  {
   "cell_type": "code",
   "execution_count": null,
   "metadata": {},
   "outputs": [],
   "source": []
  }
 ],
 "metadata": {
  "kernelspec": {
   "display_name": "Julia 0.6.2",
   "language": "julia",
   "name": "julia-0.6"
  },
  "language_info": {
   "file_extension": ".jl",
   "mimetype": "application/julia",
   "name": "julia",
   "version": "0.6.2"
  }
 },
 "nbformat": 4,
 "nbformat_minor": 2
}
